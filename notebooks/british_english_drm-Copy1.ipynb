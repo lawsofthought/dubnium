{
 "cells": [
  {
   "cell_type": "code",
   "execution_count": 1,
   "metadata": {
    "collapsed": true
   },
   "outputs": [],
   "source": [
    "from collections import Counter, defaultdict, OrderedDict\n",
    "import configobj\n",
    "import numpy"
   ]
  },
  {
   "cell_type": "code",
   "execution_count": 2,
   "metadata": {
    "collapsed": true
   },
   "outputs": [],
   "source": [
    "vocab = open('data/bnc_vocab.txt').read().split()"
   ]
  },
  {
   "cell_type": "code",
   "execution_count": 3,
   "metadata": {
    "collapsed": true
   },
   "outputs": [],
   "source": [
    "associations = open('data/associations_en_05_01_2015.csv').read().strip().split('\\n')"
   ]
  },
  {
   "cell_type": "code",
   "execution_count": 4,
   "metadata": {
    "collapsed": true
   },
   "outputs": [],
   "source": [
    "vocab_dictionary = {word:i for i, word in enumerate(vocab)}"
   ]
  },
  {
   "cell_type": "code",
   "execution_count": 5,
   "metadata": {
    "collapsed": false
   },
   "outputs": [],
   "source": [
    "def stimuli_in_bnc_vocab(row):\n",
    "    \n",
    "    ctr, word, assoc_1, assoc_2, assoc_3 = row.split(';')\n",
    "    \n",
    "    return all([v.lower() in vocab_dictionary for v in (word, assoc_1, assoc_2, assoc_3)])"
   ]
  },
  {
   "cell_type": "code",
   "execution_count": 6,
   "metadata": {
    "collapsed": true
   },
   "outputs": [],
   "source": [
    "associations_redux = filter(stimuli_in_bnc_vocab, associations)"
   ]
  },
  {
   "cell_type": "code",
   "execution_count": 7,
   "metadata": {
    "collapsed": false
   },
   "outputs": [],
   "source": [
    "cue_words = []\n",
    "for row in associations_redux:\n",
    "    ctr, word, assoc_1, assoc_2, assoc_3 = row.split(';')\n",
    "    \n",
    "    cue_words.append(word.lower())\n",
    "cue_words = Counter(cue_words)\n",
    "\n",
    "cue_words_redux = [word_tuple[0] for word_tuple in filter(lambda arg: arg[1]> 75, cue_words.items())]"
   ]
  },
  {
   "cell_type": "code",
   "execution_count": 8,
   "metadata": {
    "collapsed": false
   },
   "outputs": [],
   "source": [
    "def frequent_associates(item):\n",
    "    \n",
    "    try:\n",
    "        return item[1][14][1] >= 3\n",
    "    except IndexError: # less than 15 items\n",
    "        return False\n",
    "    "
   ]
  },
  {
   "cell_type": "code",
   "execution_count": 9,
   "metadata": {
    "collapsed": false
   },
   "outputs": [],
   "source": [
    "associates = defaultdict(list)\n",
    "\n",
    "for row in associations_redux:\n",
    "    ctr, word, assoc_1, assoc_2, assoc_3 = row.split(';')\n",
    "    associates[word].extend([assoc_1, assoc_2, assoc_3])\n",
    "\n",
    "associates_redux = {}\n",
    "for cue_word in cue_words_redux:\n",
    "    associates_redux[cue_word] = sorted(Counter(associates[cue_word]).items(),\n",
    "                                        key=lambda item: item[1],\n",
    "                                        reverse=True)\n",
    "\n",
    "cue_words_redux = sorted(dict(filter(frequent_associates, associates_redux.items())).keys())"
   ]
  },
  {
   "cell_type": "code",
   "execution_count": 10,
   "metadata": {
    "collapsed": true
   },
   "outputs": [],
   "source": [
    "V = defaultdict(int)\n",
    "for text in open('data/bnc_texts.txt').read().strip().split('\\n'):\n",
    "    words = text.split('|')\n",
    "    for word in words:\n",
    "        V[word] += 1"
   ]
  },
  {
   "cell_type": "code",
   "execution_count": 11,
   "metadata": {
    "collapsed": false
   },
   "outputs": [],
   "source": [
    "seed = 10001\n",
    "\n",
    "random = numpy.random.RandomState(seed)\n",
    "\n",
    "final_cue_words = []\n",
    "for k in random.permutation(len(cue_words_redux)):\n",
    "    \n",
    "    cue_word = cue_words_redux[k]\n",
    "    if V[cue_word] >= 2500 and V[cue_word] <= 5000 and cue_word[-1] != 's':\n",
    "        final_cue_words.append(cue_word)\n",
    "\n",
    "    if len(final_cue_words) >= 40:\n",
    "        break"
   ]
  },
  {
   "cell_type": "code",
   "execution_count": 12,
   "metadata": {
    "collapsed": false
   },
   "outputs": [
    {
     "name": "stdout",
     "output_type": "stream",
     "text": [
      "steel: metal,iron,strong,hard,cold,sword,mill,wool,shiny,silver,beams,blue,industry,stainless,grey\n",
      "abuse: hurt,child,hit,violence,neglect,harm,verbal,domestic,children,bad,drug,women,sexual,rape,bruise\n",
      "clinical: doctor,medical,hospital,trial,study,cold,clean,sterile,medicine,depression,psychology,white,precise,clinic,research\n",
      "beach: sand,sun,ocean,water,ball,waves,sea,surf,tan,umbrella,whale,shore,summer,swim,towel\n",
      "fuel: gas,car,fire,petrol,energy,oil,gasoline,food,tank,diesel,pump,power,wood,coal,expensive\n",
      "eat: food,drink,consume,dine,hungry,merry,restaurant,dinner,meal,chew,taste,fat,meat,devour,love\n",
      "injury: hurt,pain,hospital,wound,blood,accident,sports,damage,ouch,death,break,bandage,fall,bleeding,lawyer\n",
      "throat: sore,neck,swallow,cough,voice,deep,sing,cancer,cut,tonsils,mouth,dry,tongue,singing,frog\n",
      "urban: city,rural,outfitters,dictionary,sprawl,concrete,suburban,black,cowboy,town,building,planning,busy,ghetto,urbane\n",
      "afraid: scared,fear,dark,frightened,terrified,scary,fearful,anxious,nervous,spiders,monsters,shiver,timid,worry,anxiety\n",
      "boat: water,ship,sail,sea,float,row,canoe,lake,sailing,ocean,vessel,wood,swim,house,fish\n",
      "sport: football,soccer,game,ball,baseball,tennis,basketball,exercise,hockey,play,run,athlete,fun,games,sweat\n",
      "meat: beef,food,steak,red,chicken,cow,protein,flesh,pork,sausage,market,dead,raw,blood,muscle\n",
      "electric: light,power,car,current,shock,exciting,fence,static,electricity,avenue,outlet,lightning,eel,energy,kettle\n",
      "motion: movement,move,speed,action,fast,forward,car,sickness,ocean,slow,suggestion,picture,moving,dance,wave\n",
      "vehicle: car,truck,bus,transportation,bicycle,automobile,van,bike,train,boat,drive,wheel,plane,wheels,manslaughter\n",
      "audience: crowd,people,play,theater,theatre,applause,clapping,clap,concert,performance,stage,listen,queen,fans,watch\n",
      "landscape: painting,trees,grass,green,hills,artist,garden,view,nature,scenery,gardening,yard,mountains,vista,beauty\n",
      "atmosphere: air,sky,earth,space,oxygen,clouds,pressure,ambiance,nitrogen,gas,environment,ozone,blue,cloud,breathe\n",
      "teeth: white,dentist,mouth,bite,brush,chew,smile,eat,cavity,braces,tongue,floss,food,gums,toothpaste\n",
      "criminal: jail,crime,prison,justice,bad,thief,mind,wrong,crook,robber,court,law,police,felon,steal\n",
      "plane: air,fly,flat,flying,wings,airplane,travel,wood,jet,airport,crash,flight,sky,surface,plain\n",
      "goal: soccer,aim,football,score,win,objective,achievement,reach,post,hockey,net,achieve,ball,keeper,purpose\n",
      "achievement: goal,success,award,win,accomplishment,trophy,pride,prize,school,medal,result,recognition,victory,grade,happy\n",
      "flight: plane,bird,airplane,air,run,fight,sky,wing,travel,fly,flee,superman,birds,seat,attendant\n",
      "ball: round,base,play,game,dance,bat,bounce,basket,baseball,basketball,fun,sphere,football,sport,throw\n",
      "coal: black,fuel,fire,dirty,mine,energy,smoke,miner,gas,oil,burn,power,train,soot,cold\n",
      "anger: rage,red,mad,management,fear,emotion,ire,frustration,fury,hot,hate,hatred,upset,yell,frown\n",
      "row: boat,fight,oar,column,line,paddle,water,argument,canoe,house,table,river,chair,corn,aisle\n",
      "crown: king,queen,head,jewels,jewel,gold,royal,royalty,tiara,top,monarch,thorns,hat,corona,tooth\n",
      "gently: softly,soft,touch,careful,carefully,kindly,slowly,calm,loving,smooth,caress,tender,stroke,nice,tenderly\n",
      "aircraft: plane,jet,carrier,fly,airplane,pilot,helicopter,flight,flying,travel,sky,wings,metal,hanger,engine\n",
      "yellow: sun,banana,blue,submarine,orange,flower,color,green,bright,butter,red,lemon,sunshine,gold,colour\n",
      "rain: wet,water,cloud,drop,snow,umbrella,cold,weather,storm,precipitation,drops,fall,clouds,sleet,sky\n",
      "block: stop,wood,square,street,cube,toy,building,cock,shield,brick,bar,ice,road,city,shape\n",
      "victim: crime,murder,rape,hurt,violence,assault,person,injured,sad,perpetrator,blood,innocent,pity,attack,unfortunate\n",
      "seat: chair,sit,bottom,bench,couch,bus,car,cushion,pants,airplane,butt,stool,comfort,theater,rest\n",
      "artist: painter,paint,creative,musician,art,painting,easel,sculptor,canvas,color,music,sculpture,starving,movie,creator\n",
      "noise: loud,sound,music,white,annoying,ears,static,cars,cacophony,hearing,shout,din,quiet,ear,scream\n",
      "parent: mother,father,child,dad,mom,love,family,guardian,sibling,discipline,teacher,adult,care,nurture,mum\n"
     ]
    }
   ],
   "source": [
    "memoranda = {}\n",
    "for critical_lure in final_cue_words:\n",
    "    memoranda[critical_lure] = [item[0] for item in associates_redux[critical_lure][:15]]\n",
    "    memoranda_str = ','.join(memoranda[critical_lure])\n",
    "    print(critical_lure + ': ' + memoranda_str)"
   ]
  },
  {
   "cell_type": "code",
   "execution_count": 13,
   "metadata": {
    "collapsed": true
   },
   "outputs": [],
   "source": [
    "def associates_as_set(word, K=15):\n",
    "    return set([x[0] for x in associates_redux[word][:K]])\n",
    "\n",
    "def get_distractors(target, K=15):\n",
    "    words = []\n",
    "    for word in final_cue_words:\n",
    "        if len(as_set(target, K=K).intersection(as_set(word, K=K))) > 5:\n",
    "            words.extend([x[0] for x in associates_redux[word] if x[0] in vocab_dictionary])\n",
    "    return list(set(words).difference(memoranda[target]))"
   ]
  },
  {
   "cell_type": "code",
   "execution_count": 14,
   "metadata": {
    "collapsed": false
   },
   "outputs": [
    {
     "ename": "NameError",
     "evalue": "global name 'as_set' is not defined",
     "output_type": "error",
     "traceback": [
      "\u001b[0;31m---------------------------------------------------------------------------\u001b[0m",
      "\u001b[0;31mNameError\u001b[0m                                 Traceback (most recent call last)",
      "\u001b[0;32m<ipython-input-14-ba81b787f5d4>\u001b[0m in \u001b[0;36m<module>\u001b[0;34m()\u001b[0m\n\u001b[1;32m      1\u001b[0m \u001b[0mdistractors\u001b[0m \u001b[0;34m=\u001b[0m \u001b[0;34m{\u001b[0m\u001b[0;34m}\u001b[0m\u001b[0;34m\u001b[0m\u001b[0m\n\u001b[1;32m      2\u001b[0m \u001b[0;32mfor\u001b[0m \u001b[0mcritical_lure\u001b[0m \u001b[0;32min\u001b[0m \u001b[0mfinal_cue_words\u001b[0m\u001b[0;34m:\u001b[0m\u001b[0;34m\u001b[0m\u001b[0m\n\u001b[0;32m----> 3\u001b[0;31m     \u001b[0mdistractors\u001b[0m\u001b[0;34m[\u001b[0m\u001b[0mcritical_lure\u001b[0m\u001b[0;34m]\u001b[0m \u001b[0;34m=\u001b[0m \u001b[0mget_distractors\u001b[0m\u001b[0;34m(\u001b[0m\u001b[0mcritical_lure\u001b[0m\u001b[0;34m)\u001b[0m\u001b[0;34m[\u001b[0m\u001b[0;34m:\u001b[0m\u001b[0;36m5\u001b[0m\u001b[0;34m]\u001b[0m\u001b[0;34m\u001b[0m\u001b[0m\n\u001b[0m\u001b[1;32m      4\u001b[0m     \u001b[0;32mprint\u001b[0m\u001b[0;34m(\u001b[0m\u001b[0mcritical_lure\u001b[0m \u001b[0;34m+\u001b[0m \u001b[0;34m': '\u001b[0m \u001b[0;34m+\u001b[0m \u001b[0;34m','\u001b[0m\u001b[0;34m.\u001b[0m\u001b[0mjoin\u001b[0m\u001b[0;34m(\u001b[0m\u001b[0mdistractors\u001b[0m\u001b[0;34m[\u001b[0m\u001b[0mcritical_lure\u001b[0m\u001b[0;34m]\u001b[0m\u001b[0;34m)\u001b[0m\u001b[0;34m)\u001b[0m\u001b[0;34m\u001b[0m\u001b[0m\n",
      "\u001b[0;32m<ipython-input-13-5cd1e5c906f7>\u001b[0m in \u001b[0;36mget_distractors\u001b[0;34m(target, K)\u001b[0m\n\u001b[1;32m      5\u001b[0m     \u001b[0mwords\u001b[0m \u001b[0;34m=\u001b[0m \u001b[0;34m[\u001b[0m\u001b[0;34m]\u001b[0m\u001b[0;34m\u001b[0m\u001b[0m\n\u001b[1;32m      6\u001b[0m     \u001b[0;32mfor\u001b[0m \u001b[0mword\u001b[0m \u001b[0;32min\u001b[0m \u001b[0mfinal_cue_words\u001b[0m\u001b[0;34m:\u001b[0m\u001b[0;34m\u001b[0m\u001b[0m\n\u001b[0;32m----> 7\u001b[0;31m         \u001b[0;32mif\u001b[0m \u001b[0mlen\u001b[0m\u001b[0;34m(\u001b[0m\u001b[0mas_set\u001b[0m\u001b[0;34m(\u001b[0m\u001b[0mtarget\u001b[0m\u001b[0;34m,\u001b[0m \u001b[0mK\u001b[0m\u001b[0;34m=\u001b[0m\u001b[0mK\u001b[0m\u001b[0;34m)\u001b[0m\u001b[0;34m.\u001b[0m\u001b[0mintersection\u001b[0m\u001b[0;34m(\u001b[0m\u001b[0mas_set\u001b[0m\u001b[0;34m(\u001b[0m\u001b[0mword\u001b[0m\u001b[0;34m,\u001b[0m \u001b[0mK\u001b[0m\u001b[0;34m=\u001b[0m\u001b[0mK\u001b[0m\u001b[0;34m)\u001b[0m\u001b[0;34m)\u001b[0m\u001b[0;34m)\u001b[0m \u001b[0;34m>\u001b[0m \u001b[0;36m5\u001b[0m\u001b[0;34m:\u001b[0m\u001b[0;34m\u001b[0m\u001b[0m\n\u001b[0m\u001b[1;32m      8\u001b[0m             \u001b[0mwords\u001b[0m\u001b[0;34m.\u001b[0m\u001b[0mextend\u001b[0m\u001b[0;34m(\u001b[0m\u001b[0;34m[\u001b[0m\u001b[0mx\u001b[0m\u001b[0;34m[\u001b[0m\u001b[0;36m0\u001b[0m\u001b[0;34m]\u001b[0m \u001b[0;32mfor\u001b[0m \u001b[0mx\u001b[0m \u001b[0;32min\u001b[0m \u001b[0massociates_redux\u001b[0m\u001b[0;34m[\u001b[0m\u001b[0mword\u001b[0m\u001b[0;34m]\u001b[0m \u001b[0;32mif\u001b[0m \u001b[0mx\u001b[0m\u001b[0;34m[\u001b[0m\u001b[0;36m0\u001b[0m\u001b[0;34m]\u001b[0m \u001b[0;32min\u001b[0m \u001b[0mvocab_dictionary\u001b[0m\u001b[0;34m]\u001b[0m\u001b[0;34m)\u001b[0m\u001b[0;34m\u001b[0m\u001b[0m\n\u001b[1;32m      9\u001b[0m     \u001b[0;32mreturn\u001b[0m \u001b[0mlist\u001b[0m\u001b[0;34m(\u001b[0m\u001b[0mset\u001b[0m\u001b[0;34m(\u001b[0m\u001b[0mwords\u001b[0m\u001b[0;34m)\u001b[0m\u001b[0;34m.\u001b[0m\u001b[0mdifference\u001b[0m\u001b[0;34m(\u001b[0m\u001b[0mmemoranda\u001b[0m\u001b[0;34m[\u001b[0m\u001b[0mtarget\u001b[0m\u001b[0;34m]\u001b[0m\u001b[0;34m)\u001b[0m\u001b[0;34m)\u001b[0m\u001b[0;34m\u001b[0m\u001b[0m\n",
      "\u001b[0;31mNameError\u001b[0m: global name 'as_set' is not defined"
     ]
    }
   ],
   "source": [
    "distractors = {}\n",
    "for critical_lure in final_cue_words:\n",
    "    distractors[critical_lure] = get_distractors(critical_lure)[:5]\n",
    "    print(critical_lure + ': ' + ','.join(distractors[critical_lure]))"
   ]
  },
  {
   "cell_type": "code",
   "execution_count": null,
   "metadata": {
    "collapsed": false
   },
   "outputs": [],
   "source": [
    "seed = 10001\n",
    "\n",
    "random = numpy.random.RandomState(seed)\n",
    "\n",
    "def get_inwords(critical_word, K=5):\n",
    "    _memoranda = memoranda[critical_word]\n",
    "    return [_memoranda[k] for k in random.permutation(len(_memoranda))[:K]]\n",
    "\n",
    "stimuli = OrderedDict()\n",
    "\n",
    "for critical_lure in memoranda.keys():\n",
    "    \n",
    "    _stimuli = OrderedDict()\n",
    "    \n",
    "    inwords = get_inwords(critical_lure)\n",
    "    outwords = distractors[critical_lure]\n",
    "    _memoranda = memoranda[critical_lure]\n",
    "    \n",
    "    _stimuli['memoranda'] = _memoranda\n",
    "    _stimuli['inwords'] = inwords\n",
    "    _stimuli['outwords'] = outwords\n",
    "    \n",
    "    stimuli[critical_lure] = _stimuli"
   ]
  },
  {
   "cell_type": "code",
   "execution_count": null,
   "metadata": {
    "collapsed": false
   },
   "outputs": [],
   "source": [
    "! rm -f stimuli.cfg"
   ]
  },
  {
   "cell_type": "code",
   "execution_count": null,
   "metadata": {
    "collapsed": false
   },
   "outputs": [],
   "source": [
    "C = configobj.ConfigObj('stimuli.cfg', indent_type=' '*4)"
   ]
  },
  {
   "cell_type": "code",
   "execution_count": null,
   "metadata": {
    "collapsed": false
   },
   "outputs": [],
   "source": [
    "C['wordlists'] = all_stimuli"
   ]
  },
  {
   "cell_type": "code",
   "execution_count": null,
   "metadata": {
    "collapsed": false
   },
   "outputs": [],
   "source": [
    "C.write()"
   ]
  },
  {
   "cell_type": "code",
   "execution_count": null,
   "metadata": {
    "collapsed": true
   },
   "outputs": [],
   "source": []
  }
 ],
 "metadata": {
  "kernelspec": {
   "display_name": "Python 2",
   "language": "python",
   "name": "python2"
  },
  "language_info": {
   "codemirror_mode": {
    "name": "ipython",
    "version": 2
   },
   "file_extension": ".py",
   "mimetype": "text/x-python",
   "name": "python",
   "nbconvert_exporter": "python",
   "pygments_lexer": "ipython2",
   "version": "2.7.12"
  }
 },
 "nbformat": 4,
 "nbformat_minor": 1
}
