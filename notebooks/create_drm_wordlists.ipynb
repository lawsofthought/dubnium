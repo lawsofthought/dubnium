{
 "cells": [
  {
   "cell_type": "code",
   "execution_count": 1,
   "metadata": {},
   "outputs": [],
   "source": [
    "from collections import Counter, defaultdict, OrderedDict\n",
    "import configobj\n",
    "import numpy\n",
    "import sys\n",
    "\n",
    "from importlib import reload\n",
    "\n",
    "import utils\n",
    "\n",
    "from ernst import sysutils "
   ]
  },
  {
   "cell_type": "markdown",
   "metadata": {},
   "source": [
    "## Get vocabulary\n",
    "\n",
    "Read in the vocabulary, and make a dictionary where the key is the word and value is a unique integer."
   ]
  },
  {
   "cell_type": "code",
   "execution_count": 2,
   "metadata": {},
   "outputs": [],
   "source": [
    "vocab = open('data/bnc_vocab.txt').read().strip().split()\n",
    "vocab_dictionary = {word:i for i, word in enumerate(vocab)}"
   ]
  },
  {
   "cell_type": "code",
   "execution_count": 3,
   "metadata": {},
   "outputs": [],
   "source": [
    "# Restrict our stimulus (or cue) words\n",
    "minimum_cue_word_count = 75 \n",
    "minimum_number_of_associates = 20\n",
    "minimum_associate_count = 3"
   ]
  },
  {
   "cell_type": "markdown",
   "metadata": {
    "variables": {
     "minimum_associate_count": "3",
     "minimum_cue_word_count": "75",
     "minimum_number_of_associates": "20"
    }
   },
   "source": [
    "## Prepare association norm data \n",
    "\n",
    "We use the English *small world of words* association norms. We impose the following restrictions:\n",
    "\n",
    "* The stimulus word and all of their associates must be in the vocabulary defined above. \n",
    "\n",
    "* The stimulus word must occur on {{minimum_cue_word_count}} or more response trials.\n",
    "\n",
    "* There must be at least {{minimum_number_of_associates}} unique associates per stimulus word, each occurring at least {{minimum_associate_count}} times in total."
   ]
  },
  {
   "cell_type": "markdown",
   "metadata": {},
   "source": [
    "Load up the associations data."
   ]
  },
  {
   "cell_type": "code",
   "execution_count": 4,
   "metadata": {},
   "outputs": [],
   "source": [
    "sww_norms = utils.SwwNorms('data/associations_en_05_01_2015.csv')\n",
    "\n",
    "assert len(sww_norms) == 1074227"
   ]
  },
  {
   "cell_type": "markdown",
   "metadata": {},
   "source": [
    "Filter out the trials where stimulus word and all its associates are not in the vocabulary."
   ]
  },
  {
   "cell_type": "code",
   "execution_count": 5,
   "metadata": {},
   "outputs": [],
   "source": [
    "sww_norms.filter_norms_by_vocabulary(vocab_dictionary, in_place=True)\n",
    "\n",
    "assert len(sww_norms) == 543379"
   ]
  },
  {
   "cell_type": "markdown",
   "metadata": {
    "variables": {
     "minimum_cue_word_count": "75"
    }
   },
   "source": [
    "Filter out trials where stimulus word occurs less than the minumum, i.e. {{minimum_cue_word_count}}."
   ]
  },
  {
   "cell_type": "code",
   "execution_count": 6,
   "metadata": {},
   "outputs": [],
   "source": [
    "sww_norms.filter_norms_by_stimulus_counts(minimum_cue_word_count, in_place=True)\n",
    "\n",
    "assert len(sww_norms) == 174370 "
   ]
  },
  {
   "cell_type": "markdown",
   "metadata": {},
   "source": [
    "Collect all the associates of all stimulus words."
   ]
  },
  {
   "cell_type": "code",
   "execution_count": 7,
   "metadata": {},
   "outputs": [],
   "source": [
    "sww_norms.gather_associates()\n",
    "\n",
    "assert len(sww_norms.associates.keys()) == 2136"
   ]
  },
  {
   "cell_type": "markdown",
   "metadata": {},
   "source": [
    "Filter the stimuli words so that they have the required number of associates, each with the required number of counts."
   ]
  },
  {
   "cell_type": "code",
   "execution_count": 8,
   "metadata": {},
   "outputs": [],
   "source": [
    "sww_norms.filter_norms_by_associates(minimum_number_of_associates, minimum_associate_count, in_place=True)\n",
    "\n",
    "assert len(sww_norms.associates) == 721"
   ]
  },
  {
   "cell_type": "markdown",
   "metadata": {},
   "source": [
    "## Why not restrict attention to British English participants?\n",
    "\n",
    "Given that we are intending to do this experiment with British English participants, why don't we just use the association norms produced by British English speakers? "
   ]
  },
  {
   "cell_type": "code",
   "execution_count": 9,
   "metadata": {},
   "outputs": [],
   "source": [
    "users = open('data/usersasso.csv', encoding='utf8').read().strip().split('\\n')\n",
    "\n",
    "strip = lambda x : x.replace('\"','')\n",
    "\n",
    "users = [\n",
    "    dict(zip(map(strip, users[0].split(';')), map(strip, user.split(';'))))\n",
    "    for user in users[1:]\n",
    "]\n",
    "\n",
    "gbr_proportion = numpy.mean([user['nativeLanguage'] == 'GBR' for user in users])\n",
    "\n",
    "assert numpy.allclose(gbr_proportion, 0.092570077113972124)"
   ]
  },
  {
   "cell_type": "markdown",
   "metadata": {
    "variables": {
     "int(gbr_proportion*1000)/10": "9.2"
    }
   },
   "source": [
    "The percentage of the participants who are native British English speakers is just {{int(gbr_proportion*1000)/10}}%, so we would use only a small proportion of the available data if we restricted attention to just these participants. "
   ]
  },
  {
   "cell_type": "markdown",
   "metadata": {},
   "source": [
    "Get the unigram statistics for all words in the BNC. "
   ]
  },
  {
   "cell_type": "code",
   "execution_count": 10,
   "metadata": {},
   "outputs": [],
   "source": [
    "V = defaultdict(int)\n",
    "for text in open('data/bnc_texts.txt', \n",
    "                 encoding='utf-8').read().strip().split('\\n'):\n",
    "    words = text.split('|')\n",
    "    for word in words:\n",
    "        V[word.lower()] += 1\n",
    "        \n",
    "assert (V['woods'], V['milk'], V['military']) == (1647, 3342, 9180)"
   ]
  },
  {
   "cell_type": "code",
   "execution_count": 11,
   "metadata": {},
   "outputs": [],
   "source": [
    "minimum_bnc_count = 2500\n",
    "maximum_bnc_count = 5000 \n",
    "stimulus_set_length = 50\n",
    "memorandum_length = 20"
   ]
  },
  {
   "cell_type": "markdown",
   "metadata": {
    "variables": {
     "maximum_bnc_count": "5000",
     "minimum_bnc_count": "2500",
     "stimulus_set_length": "50"
    }
   },
   "source": [
    "Randomly select words for the set of acceptable stimulus word (cue words). Keep if the rate of occurrence of that word in the BNC is greater than {{minimum_bnc_count}} and less than {{maximum_bnc_count}}. Exclude words that end in s, as that would get too many plurals or derivatives of the present tense in verbs, e.g. runs, walks, etc. Collect a total of {{stimulus_set_length}} words this way."
   ]
  },
  {
   "cell_type": "code",
   "execution_count": 12,
   "metadata": {},
   "outputs": [],
   "source": [
    "stimulus_words = list(sww_norms.associates.keys())\n",
    "\n",
    "seed = 10001\n",
    "\n",
    "random = numpy.random.RandomState(seed)\n",
    "\n",
    "final_stimulus_set = []\n",
    "for k in random.permutation(len(stimulus_words)):\n",
    "    \n",
    "    stimulus_word = stimulus_words[k]\n",
    "    if V[stimulus_word] > minimum_bnc_count and V[stimulus_word] < maximum_bnc_count and stimulus_word[-1] != 's':\n",
    "        final_stimulus_set.append(stimulus_word)\n",
    "\n",
    "    if len(final_stimulus_set) >= stimulus_set_length:\n",
    "        break\n",
    "\n",
    "assert sww_norms.associates[final_stimulus_set[0]][0] == ('crazy', 24) # If seed is 10001"
   ]
  },
  {
   "cell_type": "markdown",
   "metadata": {
    "variables": {
     "memorandum_length": "20"
    }
   },
   "source": [
    "For each word in the final stimulus set, collect the top {{memorandum_length}} associated words."
   ]
  },
  {
   "cell_type": "code",
   "execution_count": 13,
   "metadata": {},
   "outputs": [
    {
     "name": "stdout",
     "output_type": "stream",
     "text": [
      "wild: crazy,animal,nature,feral,animals,beast,west,free,fun,woods,jungle,untamed,wilderness,party,tame,berry,hair,bear,child,forest\n",
      "ice: cold,water,cream,snow,cube,frozen,freeze,drink,skate,white,winter,cubes,iceberg,solid,pick,hard,fire,hockey,slippery,tea\n",
      "bear: grizzly,animal,hug,black,brown,teddy,carry,polar,cub,endure,fur,arms,burden,stand,ferocious,furry,dangerous,growl,bare,tolerate\n",
      "electric: light,power,car,current,shock,exciting,fence,electricity,static,lamp,wires,kettle,wire,company,outlet,eel,avenue,lightning,guitar,energy\n",
      "chain: link,gang,mail,metal,lock,fence,necklace,letter,links,ball,reaction,gold,rope,iron,bike,smoke,slave,connection,bicycle,prisoner\n",
      "prison: jail,bars,cell,orange,inmate,penitentiary,rape,prisoner,incarceration,criminal,convict,guards,guard,break,cold,crime,gaol,stripes,sentence,locked\n",
      "drawing: pencil,art,sketch,paper,painting,picture,board,pen,paint,color,artist,crayons,easel,charcoal,illustration,crayon,child,lottery,sketching,pictures\n",
      "insurance: car,money,policy,safety,claim,life,fraud,scam,health,protection,fire,expensive,accident,safe,cost,backup,home,premium,security,crash\n",
      "fun: happy,laugh,play,smile,joy,party,friends,games,enjoyment,time,enjoy,pleasure,exciting,enjoyable,day,kids,smiling,entertaining,amusing,laughter\n",
      "chemical: chemistry,reaction,science,burn,acid,brothers,spill,laboratory,smell,lab,toxic,drug,beaker,hazard,engineering,equation,warfare,artificial,scientist,elements\n",
      "comfortable: warm,cozy,bed,soft,sofa,couch,relaxed,chair,blanket,nice,easy,home,happy,cushion,cosy,ease,comfy,safe,relaxing,pillow\n",
      "urban: city,rural,outfitters,sprawl,dictionary,concrete,suburban,black,town,cowboy,building,country,busy,urbane,suburb,ghetto,dirty,suburbs,houses,poor\n",
      "comfort: warm,bed,soft,food,home,couch,blanket,pillow,love,relax,hug,warmth,zone,mother,peace,cuddle,cushion,happy,ease,solace\n",
      "abuse: hurt,child,hit,violence,neglect,harm,verbal,children,bad,drug,domestic,women,sexual,rape,bruise,power,violent,shout,drugs,physical\n",
      "card: game,birthday,greeting,credit,table,ace,shark,deck,board,paper,playing,hallmark,player,debit,business,funny,sharp,poker,note,play\n",
      "block: stop,wood,square,street,toy,cube,building,cock,brick,shield,city,road,ice,bar,prevent,head,shape,build,cement,party\n",
      "teeth: white,dentist,mouth,bite,brush,chew,smile,eat,cavity,tongue,braces,floss,food,gums,toothbrush,toothpaste,molar,tooth,straight,enamel\n",
      "heat: hot,summer,fire,sun,warm,cold,warmth,temperature,sweat,pressure,red,wave,humidity,humid,spicy,oven,desert,stove,pad,energy\n",
      "motion: movement,move,speed,fast,action,sickness,ocean,forward,car,slow,moving,picture,suggestion,dance,wave,progress,notion,travel,bowel,activity\n",
      "smoke: fire,cigarette,cigarettes,cancer,cough,chimney,screen,fog,smell,cigar,water,inhale,plume,stack,detector,tobacco,dirty,bad,mirrors,weed\n",
      "milk: cow,white,drink,cream,bottle,chocolate,cold,calcium,lactose,cereal,glass,baby,cows,butter,honey,mother,carton,dairy,jug,breast\n",
      "wooden: spoon,table,tree,stiff,hard,furniture,chair,leg,horse,toy,house,boat,stick,bench,box,wood,forest,doll,natural,expressionless\n",
      "traffic: jam,cars,light,car,cop,cone,busy,congestion,stop,lights,slow,heavy,road,city,highway,frustration,accident,drug,snarl,sell\n",
      "iron: metal,steel,ore,clothes,board,maiden,blood,hot,fist,heavy,strong,mineral,element,copper,skillet,clad,lady,hard,fire,anvil\n",
      "magazine: book,newspaper,article,paper,read,glossy,gossip,cover,information,news,celebrity,celebrities,pictures,journal,periodical,picture,weekly,sports,subscription,gloss\n",
      "stick: glue,branch,tree,wood,adhere,dog,stone,twig,poke,ball,brown,carrot,mud,stay,cane,paste,bone,fetch,tape,bones\n",
      "atmosphere: air,sky,earth,space,oxygen,pressure,clouds,ambiance,gas,nitrogen,cloud,environment,ozone,blue,stratosphere,breathe,feeling,science,aura,vibe\n",
      "farm: animal,animals,barn,land,cow,cows,crops,tractor,house,pig,food,farmer,field,grow,rural,grass,corn,sheep,ranch,wheat\n",
      "goal: soccer,aim,football,score,win,objective,achievement,reach,post,net,hockey,achieve,ball,keeper,target,purpose,dream,success,life,finish\n",
      "neck: head,kiss,tie,throat,necklace,giraffe,brace,pain,shoulder,beard,chicken,bottle,hickey,body,scarf,skin,red,shoulders,chin,spine\n",
      "chest: treasure,hair,drawers,heart,breast,breasts,boobs,cold,torso,ribs,box,body,lungs,wooden,shirt,nipples,bust,pain,container,hairy\n",
      "rain: wet,water,cloud,drop,snow,umbrella,weather,cold,storm,drops,precipitation,clouds,fall,pour,sleet,thunder,sky,rainbow,smell,dark\n",
      "bird: fly,wings,flight,feather,song,beak,robin,wing,tweet,nest,hawk,feathers,plane,blue,free,eagle,chirp,egg,sky,flying\n",
      "cat: dog,feline,mouse,pet,kitten,animal,purr,fur,furry,soft,pussy,tiger,lion,nap,kitty,hair,litter,claws,cute,fluffy\n",
      "spring: flowers,summer,fall,season,jump,green,winter,water,warm,autumn,forward,mattress,sun,bed,coil,rain,time,weather,leaves,sprung\n",
      "plane: air,fly,flat,airplane,flying,travel,wings,wood,jet,airport,crash,flight,surface,sky,plain,tool,fast,tree,line,geometry\n",
      "solid: hard,liquid,rock,strong,firm,dense,gas,ice,heavy,ground,wood,block,sturdy,metal,cube,form,steady,matter,dependable,fluid\n",
      "clinical: doctor,medical,hospital,trial,study,clean,cold,medicine,sterile,psychology,depression,white,clinic,research,precise,medication,trials,surgery,nurse,scientific\n",
      "soft: pillow,hard,fluffy,skin,blanket,warm,fuzzy,cushion,nice,cuddly,smooth,gentle,cat,comfortable,light,feather,fur,cloud,cotton,puppy\n",
      "coffee: tea,drink,morning,cup,caffeine,hot,black,sugar,milk,aroma,bitter,smell,beans,bean,cafe,mug,cake,color,creamer,cream\n",
      "autumn: leaves,fall,winter,season,spring,orange,cold,brown,summer,leaf,colors,trees,cool,pumpkin,wind,red,colour,change,rain,chilly\n",
      "tree: green,branch,leaves,leaf,plant,oak,forest,shade,bark,bush,top,tall,trunk,life,house,wood,apple,branches,shrub,root\n",
      "draw: pencil,picture,paint,paper,sketch,art,gun,color,pen,water,painting,create,write,line,crayon,design,tie,drawer,pull,win\n",
      "angry: mad,red,rage,upset,irate,pissed,birds,furious,sad,emotion,frustrated,cross,enraged,anger,fight,hateful,fury,temper,frown,shout\n",
      "ball: round,play,base,game,dance,bat,bounce,basket,baseball,basketball,fun,sphere,football,sport,throw,foot,catch,soccer,field,bearing\n",
      "golden: sun,silver,retriever,shiny,yellow,coin,hair,age,shower,ring,egg,gold,goose,rich,money,sunset,wheat,jewelry,precious,jewellery\n",
      "diet: food,weight,fat,coke,skinny,calories,soda,thin,healthy,health,nutrition,hunger,lose,exercise,eat,salad,loss,vegetables,fad,hungry\n",
      "academic: school,university,professor,smart,scholar,study,college,intelligent,student,learning,books,teacher,scholarly,education,studies,learn,intellectual,grades,degree,academy\n",
      "driving: car,wheel,road,fast,golf,rain,travel,highway,speed,traffic,cars,crash,steering,mad,drunk,licence,test,accident,diving,fun\n",
      "circle: round,square,shape,geometry,sphere,sun,oval,jerk,ring,pi,life,perfect,ellipse,ball,balloon,draw,radius,circumference,line,friends\n"
     ]
    }
   ],
   "source": [
    "memoranda = {}\n",
    "for critical_lure in final_stimulus_set:\n",
    "    memoranda[critical_lure] = [item[0] \n",
    "                                for item in sww_norms.associates[critical_lure][:minimum_number_of_associates]]\n",
    "    memoranda_str = ','.join(memoranda[critical_lure])\n",
    "    print(critical_lure + ': ' + memoranda_str)"
   ]
  },
  {
   "cell_type": "code",
   "execution_count": 14,
   "metadata": {},
   "outputs": [],
   "source": [
    "def get_distractors(target, K=5):\n",
    "    \n",
    "    '''\n",
    "    Find distractors for a given target word.\n",
    "    \n",
    "    * For every target word, find its top associates.\n",
    "    * Find all those words in the final stimulus set where\n",
    "      there is an overlap of `K` or more words between their \n",
    "      associates and the associates of the target word.\n",
    "    * Collect all the associates of matching other words.\n",
    "    * If the target word is in the final_stimulus_set (which it\n",
    "      will be), then we'll also look at the overlap between the \n",
    "      associates of the target word and itself. But that's ok. \n",
    "      It does not mess things up. \n",
    "    * We count all these associate words, and then return all the\n",
    "      counts as a list, but removing any associates that are in \n",
    "      the memoranda associated with the target.\n",
    "    \n",
    "    '''\n",
    "    \n",
    "    def associates_as_set(word):\n",
    "        return set([x[0] \n",
    "                    for x in sww_norms.associates[word]])\n",
    "    \n",
    "    words = []\n",
    "    for word in final_stimulus_set:\n",
    "        if len(associates_as_set(target).intersection(associates_as_set(word))) > K:\n",
    "            words.extend([x[0] for x in sww_norms.associates[word] if x[0] in vocab_dictionary])\n",
    "                \n",
    "    return [item for item in sorted(Counter(words).items(), \n",
    "                                    key=lambda item: item[1],\n",
    "                                    reverse = True) \n",
    "            if item[0] not in memoranda[target]]\n",
    "                  \n",
    "assert get_distractors('milk', K=5)[0] == ('water', 4)"
   ]
  },
  {
   "cell_type": "code",
   "execution_count": 15,
   "metadata": {},
   "outputs": [
    {
     "name": "stdout",
     "output_type": "stream",
     "text": [
      "wild: tree, life, bird, house, wood, love, home\n",
      "ice: wet, box, block, arctic, baby, yummy, blue\n",
      "bear: hair, bird, tree, strong, woods, forest, wood\n",
      "electric: horse, green, blue, lights, money, gas, dog\n",
      "chain: heavy, box, steel, key, cold, rock, dance\n",
      "prison: house, black, hard, metal, lock, government, dance\n",
      "drawing: table, line, water, ink, hard, hand, horse\n",
      "insurance: house, grey, death, hard, happy, free, gas\n",
      "fun: life, house, family, dance, love, game, sun\n",
      "chemical: water, gas, hot, strong, gray, light, factory\n",
      "comfortable: life, house, love, hard, dance, sun, calm\n",
      "urban: life, house, home, nature, free, cat, tree\n",
      "comfort: fire, house, safety, life, safe, comfort, water\n",
      "abuse: happy, pain, hate, sex, red, animal, animals\n",
      "card: party, money, life, house, happy, dance, hard\n",
      "block: house, hard, black, dance, box, time, play\n",
      "teeth: ache, hurt, body, hard, eating, gold, bone\n",
      "heat: bed, happy, light, blanket, home, steam, weather\n",
      "motion: blue, life, cars, power, train, city, line\n",
      "smoke: home, sun, cold, hot, steam, safety, life\n",
      "milk: water, tea, sugar, hard, road, eggs, food\n",
      "wooden: bird, brown, strong, metal, woods, dog, water\n",
      "traffic: power, blue, sky, life, hate, money, train\n",
      "iron: water, horse, brown, tree, box, light, dog\n",
      "magazine: life, water, tree, dance, party, ink, color\n",
      "stick: warm, fire, stick, boy, bat, woods, hockey\n",
      "atmosphere: sun, light, dance, water, life, dog, yellow\n",
      "farm: nature, life, tree, water, trees, flower, green\n",
      "goal: paper, dance, money, house, happy, play, party\n",
      "neck: hurt, hair, dog, bone, tree, beat, warm\n",
      "chest: strong, heavy, gold, muscle, rock, clean, hard\n",
      "rain: sun, light, hard, fire, warm, wind, heavy\n",
      "bird: light, dog, bird, cat, tree, green, animal\n",
      "cat: warm, bed, bird, tree, happy, life, home\n",
      "spring: life, house, tree, happy, dance, ball, home\n",
      "plane: board, paint, water, hard, table, horse, home\n",
      "solid: house, gold, sun, cold, water, box, brown\n",
      "clinical: science, studies, practical, teacher, level, practice, precision\n",
      "soft: strong, bed, brown, box, soft, home, cold\n",
      "coffee: water, warm, bed, fire, happy, love, food\n",
      "autumn: sun, weather, warm, sunny, sky, showers, shine\n",
      "tree: tree, brown, nature, dog, bird, trees, sky\n",
      "draw: board, table, life, ink, tree, happy, party\n",
      "angry: home, friend, fire, drugs, hate, sex, warm\n",
      "ball: life, house, ball, party, time, sun, board\n",
      "golden: tree, dog, brown, water, heavy, light, green\n",
      "diet: chocolate, water, sugar, tea, white, strong, hard\n",
      "academic: paper, science, doctor, book, life, ball, cap\n",
      "driving: home, power, train, city, blue, safety, life\n",
      "circle: house, dance, water, box, metal, gold, time\n"
     ]
    }
   ],
   "source": [
    "distractors = {}\n",
    "for critical_lure in memoranda:\n",
    "    distractors[critical_lure] = [x[0] \n",
    "                                  for x in get_distractors(critical_lure)]\n",
    "    print(critical_lure + ': ' + ', '.join(distractors[critical_lure][:7]))"
   ]
  },
  {
   "cell_type": "code",
   "execution_count": 16,
   "metadata": {},
   "outputs": [],
   "source": [
    "seed = 424242\n",
    "\n",
    "random = numpy.random.RandomState(seed)\n",
    "\n",
    "def get_inwords(critical_word, K=5):\n",
    "    _memoranda = memoranda[critical_word]\n",
    "    return [_memoranda[k] for k in random.permutation(len(_memoranda))[:K]]\n",
    "\n",
    "def check_stimuli(critical_lure, stimuli):\n",
    "    \n",
    "    memoranda, inwords, outwords = map(set,\n",
    "                                       stimuli.values())\n",
    "    \n",
    "    assert memoranda.issuperset(inwords)\n",
    "    assert memoranda.isdisjoint(outwords)\n",
    "    assert inwords.isdisjoint(outwords)\n",
    "    \n",
    "    assert critical_lure in outwords\n",
    "    assert not critical_lure in inwords\n",
    "    assert not critical_lure in memoranda\n",
    "    \n",
    "    return True\n",
    "    \n",
    "    \n",
    "\n",
    "stimuli = OrderedDict()\n",
    "\n",
    "for critical_lure in memoranda.keys():\n",
    "    \n",
    "    _stimuli = OrderedDict()\n",
    "    \n",
    "    _stimuli['memoranda'] = memoranda[critical_lure]\n",
    "    K = int(memorandum_length/2)\n",
    "    _stimuli['inwords'] = get_inwords(critical_lure, K=K)\n",
    "    _stimuli['outwords'] = [critical_lure] + distractors[critical_lure][:K-1]\n",
    "    \n",
    "    assert check_stimuli(critical_lure, _stimuli)\n",
    "    \n",
    "    \n",
    "    stimuli[critical_lure] = _stimuli"
   ]
  },
  {
   "cell_type": "code",
   "execution_count": 17,
   "metadata": {},
   "outputs": [],
   "source": [
    "C = configobj.ConfigObj('stimuli.cfg', indent_type=' '*4)\n",
    "\n",
    "C['wordlists'] = stimuli\n",
    "\n",
    "C.write()\n",
    "\n",
    "assert sysutils.checksum('stimuli.cfg') == '942167cb194cb938c6f89dedc811e5110d82c67befc72ae8f6aa4fd5f4028a7d'"
   ]
  },
  {
   "cell_type": "code",
   "execution_count": 23,
   "metadata": {},
   "outputs": [
    {
     "name": "stdout",
     "output_type": "stream",
     "text": [
      "[wordlists]\n",
      "    [[wild]]\n",
      "        memoranda = crazy, animal, nature, feral, animals, beast, west, free, fun, woods, jungle, untamed, wilderness, party, tame, berry, hair, bear, child, forest\n",
      "        inwords = berry, west, animal, beast, bear, feral, party, hair, nature, untamed\n",
      "        outwords = wild, tree, life, bird, house, wood, love, home, warm, green\n",
      "    [[ice]]\n",
      "        memoranda = cold, water, cream, snow, cube, frozen, freeze, drink, skate, white, winter, cubes, iceberg, solid, pick, hard, fire, hockey, slippery, tea\n",
      "        inwords = white, hard, iceberg, frozen, solid, tea, cream, skate, cold, cubes\n",
      "        outwords = ice, wet, box, block, arctic, baby, yummy, blue, vanilla, gas\n",
      "    [[bear]]\n",
      "        memoranda = grizzly, animal, hug, black, brown, teddy, carry, polar, cub, endure, fur, arms, burden, stand, ferocious, furry, dangerous, growl, bare, tolerate\n",
      "        inwords = bare, ferocious, hug, cub, tolerate, arms, brown, endure, dangerous, fur\n",
      "        outwords = bear, hair, bird, tree, strong, woods, forest, wood, horse, box\n",
      "    [[electric]]\n",
      "        memoranda = light, power, car, current, shock, exciting, fence, electricity, static, lamp, wires, kettle, wire, company, outlet, eel, avenue, lightning, guitar, energy\n",
      "        inwords = shock, company, fence, power, lamp, lightning, guitar, eel, static, kettle\n",
      "        outwords = electric, horse, green, blue, lights, money, gas, dog, yellow, stove\n",
      "    [[chain]]\n",
      "        memoranda = link, gang, mail, metal, lock, fence, necklace, letter, links, ball, reaction, gold, rope, iron, bike, smoke, slave, connection, bicycle, prisoner\n",
      "        inwords = slave, fence, mail, reaction, connection, links, lock, iron, gold, smoke\n",
      "        outwords = chain, heavy, box, steel, key, cold, rock, dance, silver, time\n",
      "    [[prison]]\n",
      "        memoranda = jail, bars, cell, orange, inmate, penitentiary, rape, prisoner, incarceration, criminal, convict, guards, guard, break, cold, crime, gaol, stripes, sentence, locked\n",
      "        inwords = criminal, incarceration, orange, cold, prisoner, jail, bars, break, sentence, guard\n",
      "        outwords = prison, house, black, hard, metal, lock, government, dance, nature, box\n",
      "    [[drawing]]\n",
      "        memoranda = pencil, art, sketch, paper, painting, picture, board, pen, paint, color, artist, crayons, easel, charcoal, illustration, crayon, child, lottery, sketching, pictures\n",
      "        inwords = sketch, paper, artist, sketching, pen, color, illustration, art, child, painting\n",
      "        outwords = drawing, table, line, water, ink, hard, hand, horse, tree, wood\n",
      "    [[insurance]]\n",
      "        memoranda = car, money, policy, safety, claim, life, fraud, scam, health, protection, fire, expensive, accident, safe, cost, backup, home, premium, security, crash\n",
      "        inwords = safe, crash, premium, scam, claim, policy, expensive, protection, fire, car\n",
      "        outwords = insurance, house, grey, death, hard, happy, free, gas, yellow, ease\n",
      "    [[fun]]\n",
      "        memoranda = happy, laugh, play, smile, joy, party, friends, games, enjoyment, time, enjoy, pleasure, exciting, enjoyable, day, kids, smiling, entertaining, amusing, laughter\n",
      "        inwords = amusing, smile, time, enjoyable, joy, play, enjoyment, party, day, games\n",
      "        outwords = fun, life, house, family, dance, love, game, sun, paper, water\n",
      "    [[chemical]]\n",
      "        memoranda = chemistry, reaction, science, burn, acid, brothers, spill, laboratory, smell, lab, toxic, drug, beaker, hazard, engineering, equation, warfare, artificial, scientist, elements\n",
      "        inwords = smell, lab, spill, equation, laboratory, hazard, elements, burn, brothers, science\n",
      "        outwords = chemical, water, gas, hot, strong, gray, light, factory, danger, blue\n",
      "    [[comfortable]]\n",
      "        memoranda = warm, cozy, bed, soft, sofa, couch, relaxed, chair, blanket, nice, easy, home, happy, cushion, cosy, ease, comfy, safe, relaxing, pillow\n",
      "        inwords = sofa, comfy, safe, cozy, couch, ease, blanket, nice, pillow, happy\n",
      "        outwords = comfortable, life, house, love, hard, dance, sun, calm, warmth, black\n",
      "    [[urban]]\n",
      "        memoranda = city, rural, outfitters, sprawl, dictionary, concrete, suburban, black, town, cowboy, building, country, busy, urbane, suburb, ghetto, dirty, suburbs, houses, poor\n",
      "        inwords = ghetto, black, sprawl, concrete, urbane, busy, outfitters, country, suburban, suburb\n",
      "        outwords = urban, life, house, home, nature, free, cat, tree, people, soft\n",
      "    [[comfort]]\n",
      "        memoranda = warm, bed, soft, food, home, couch, blanket, pillow, love, relax, hug, warmth, zone, mother, peace, cuddle, cushion, happy, ease, solace\n",
      "        inwords = home, couch, happy, bed, blanket, zone, pillow, soft, ease, love\n",
      "        outwords = comfort, fire, house, safety, life, safe, comfort, water, nice, fluffy\n",
      "    [[abuse]]\n",
      "        memoranda = hurt, child, hit, violence, neglect, harm, verbal, children, bad, drug, domestic, women, sexual, rape, bruise, power, violent, shout, drugs, physical\n",
      "        inwords = drugs, women, power, shout, violent, violence, bruise, sexual, child, hit\n",
      "        outwords = abuse, happy, pain, hate, sex, red, animal, animals, free, woods\n",
      "    [[card]]\n",
      "        memoranda = game, birthday, greeting, credit, table, ace, shark, deck, board, paper, playing, hallmark, player, debit, business, funny, sharp, poker, note, play\n",
      "        inwords = funny, business, credit, paper, sharp, note, greeting, poker, game, debit\n",
      "        outwords = card, party, money, life, house, happy, dance, hard, card, green\n",
      "    [[block]]\n",
      "        memoranda = stop, wood, square, street, toy, cube, building, cock, brick, shield, city, road, ice, bar, prevent, head, shape, build, cement, party\n",
      "        inwords = cube, square, build, bar, building, shield, stop, wood, prevent, shape\n",
      "        outwords = block, house, hard, black, dance, box, time, play, game, traffic\n",
      "    [[teeth]]\n",
      "        memoranda = white, dentist, mouth, bite, brush, chew, smile, eat, cavity, tongue, braces, floss, food, gums, toothbrush, toothpaste, molar, tooth, straight, enamel\n",
      "        inwords = eat, tongue, enamel, toothpaste, brush, floss, dentist, braces, mouth, smile\n",
      "        outwords = teeth, ache, hurt, body, hard, eating, gold, bone, meal, health\n",
      "    [[heat]]\n",
      "        memoranda = hot, summer, fire, sun, warm, cold, warmth, temperature, sweat, pressure, red, wave, humidity, humid, spicy, oven, desert, stove, pad, energy\n",
      "        inwords = oven, desert, red, energy, pad, humid, temperature, summer, warm, sweat\n",
      "        outwords = heat, bed, happy, light, blanket, home, steam, weather, smell, water\n",
      "    [[motion]]\n",
      "        memoranda = movement, move, speed, fast, action, sickness, ocean, forward, car, slow, moving, picture, suggestion, dance, wave, progress, notion, travel, bowel, activity\n",
      "        inwords = suggestion, movement, activity, move, notion, sickness, wave, travel, slow, forward\n",
      "        outwords = motion, blue, life, cars, power, train, city, line, sky, tree\n",
      "    [[smoke]]\n",
      "        memoranda = fire, cigarette, cigarettes, cancer, cough, chimney, screen, fog, smell, cigar, water, inhale, plume, stack, detector, tobacco, dirty, bad, mirrors, weed\n",
      "        inwords = fog, bad, cancer, cough, cigarette, water, cigar, stack, screen, tobacco\n",
      "        outwords = smoke, home, sun, cold, hot, steam, safety, life, blue, death\n",
      "    [[milk]]\n",
      "        memoranda = cow, white, drink, cream, bottle, chocolate, cold, calcium, lactose, cereal, glass, baby, cows, butter, honey, mother, carton, dairy, jug, breast\n",
      "        inwords = breast, cold, honey, glass, white, cereal, drink, cream, chocolate, mother\n",
      "        outwords = milk, water, tea, sugar, hard, road, eggs, food, green, warm\n",
      "    [[wooden]]\n",
      "        memoranda = spoon, table, tree, stiff, hard, furniture, chair, leg, horse, toy, house, boat, stick, bench, box, wood, forest, doll, natural, expressionless\n",
      "        inwords = expressionless, wood, chair, natural, stiff, stick, hard, table, horse, spoon\n",
      "        outwords = wooden, bird, brown, strong, metal, woods, dog, water, green, field\n",
      "    [[traffic]]\n",
      "        memoranda = jam, cars, light, car, cop, cone, busy, congestion, stop, lights, slow, heavy, road, city, highway, frustration, accident, drug, snarl, sell\n",
      "        inwords = snarl, cop, car, light, city, frustration, sell, stop, slow, busy\n",
      "        outwords = traffic, power, blue, sky, life, hate, money, train, gas, horse\n",
      "    [[iron]]\n",
      "        memoranda = metal, steel, ore, clothes, board, maiden, blood, hot, fist, heavy, strong, mineral, element, copper, skillet, clad, lady, hard, fire, anvil\n",
      "        inwords = clothes, hard, maiden, mineral, hot, heavy, lady, metal, strong, fire\n",
      "        outwords = iron, water, horse, brown, tree, box, light, dog, gold, clean\n",
      "    [[magazine]]\n",
      "        memoranda = book, newspaper, article, paper, read, glossy, gossip, cover, information, news, celebrity, celebrities, pictures, journal, periodical, picture, weekly, sports, subscription, gloss\n",
      "        inwords = picture, periodical, book, gloss, celebrity, gossip, subscription, paper, glossy, newspaper\n",
      "        outwords = magazine, life, water, tree, dance, party, ink, color, time, love\n",
      "    [[stick]]\n",
      "        memoranda = glue, branch, tree, wood, adhere, dog, stone, twig, poke, ball, brown, carrot, mud, stay, cane, paste, bone, fetch, tape, bones\n",
      "        inwords = stone, fetch, adhere, paste, cane, mud, bones, bone, twig, tape\n",
      "        outwords = stick, warm, fire, stick, boy, bat, woods, hockey, field, green\n",
      "    [[atmosphere]]\n",
      "        memoranda = air, sky, earth, space, oxygen, pressure, clouds, ambiance, gas, nitrogen, cloud, environment, ozone, blue, stratosphere, breathe, feeling, science, aura, vibe\n",
      "        inwords = gas, pressure, feeling, stratosphere, cloud, environment, breathe, nitrogen, clouds, vibe\n",
      "        outwords = atmosphere, sun, light, dance, water, life, dog, yellow, green, house\n",
      "    [[farm]]\n",
      "        memoranda = animal, animals, barn, land, cow, cows, crops, tractor, house, pig, food, farmer, field, grow, rural, grass, corn, sheep, ranch, wheat\n",
      "        inwords = cows, wheat, field, sheep, corn, house, pig, barn, rural, land\n",
      "        outwords = farm, nature, life, tree, water, trees, flower, green, woods, child\n",
      "    [[goal]]\n",
      "        memoranda = soccer, aim, football, score, win, objective, achievement, reach, post, net, hockey, achieve, ball, keeper, target, purpose, dream, success, life, finish\n",
      "        inwords = aim, post, objective, target, hockey, football, purpose, ball, achievement, achieve\n",
      "        outwords = goal, paper, dance, money, house, happy, play, party, time, board\n",
      "    [[neck]]\n",
      "        memoranda = head, kiss, tie, throat, necklace, giraffe, brace, pain, shoulder, beard, chicken, bottle, hickey, body, scarf, skin, red, shoulders, chin, spine\n",
      "        inwords = throat, necklace, shoulders, bottle, red, kiss, skin, body, brace, head\n",
      "        outwords = neck, hurt, hair, dog, bone, tree, beat, warm, animal, woods\n",
      "    [[chest]]\n",
      "        memoranda = treasure, hair, drawers, heart, breast, breasts, boobs, cold, torso, ribs, box, body, lungs, wooden, shirt, nipples, bust, pain, container, hairy\n",
      "        inwords = ribs, hair, box, shirt, nipples, cold, breasts, hairy, torso, pain\n",
      "        outwords = chest, strong, heavy, gold, muscle, rock, clean, hard, brown, arms\n",
      "    [[rain]]\n",
      "        memoranda = wet, water, cloud, drop, snow, umbrella, weather, cold, storm, drops, precipitation, clouds, fall, pour, sleet, thunder, sky, rainbow, smell, dark\n",
      "        inwords = fall, clouds, rainbow, thunder, drops, weather, water, sky, pour, snow\n",
      "        outwords = rain, sun, light, hard, fire, warm, wind, heavy, gold, winter\n",
      "    [[bird]]\n",
      "        memoranda = fly, wings, flight, feather, song, beak, robin, wing, tweet, nest, hawk, feathers, plane, blue, free, eagle, chirp, egg, sky, flying\n",
      "        inwords = egg, wings, flight, robin, sky, beak, hawk, tweet, song, feather\n",
      "        outwords = bird, light, dog, bird, cat, tree, green, animal, hair, forest\n",
      "    [[cat]]\n",
      "        memoranda = dog, feline, mouse, pet, kitten, animal, purr, fur, furry, soft, pussy, tiger, lion, nap, kitty, hair, litter, claws, cute, fluffy\n",
      "        inwords = kitten, dog, claws, animal, litter, pet, hair, fluffy, soft, lion\n",
      "        outwords = cat, warm, bed, bird, tree, happy, life, home, love, free\n",
      "    [[spring]]\n",
      "        memoranda = flowers, summer, fall, season, jump, green, winter, water, warm, autumn, forward, mattress, sun, bed, coil, rain, time, weather, leaves, sprung\n",
      "        inwords = time, forward, weather, water, flowers, leaves, winter, rain, green, mattress\n",
      "        outwords = spring, life, house, tree, happy, dance, ball, home, party, dog\n",
      "    [[plane]]\n",
      "        memoranda = air, fly, flat, airplane, flying, travel, wings, wood, jet, airport, crash, flight, surface, sky, plain, tool, fast, tree, line, geometry\n",
      "        inwords = sky, fly, airport, flying, tool, fast, wood, line, travel, airplane\n",
      "        outwords = plane, board, paint, water, hard, table, horse, home, transportation, blue\n",
      "    [[solid]]\n",
      "        memoranda = hard, liquid, rock, strong, firm, dense, gas, ice, heavy, ground, wood, block, sturdy, metal, cube, form, steady, matter, dependable, fluid\n",
      "        inwords = ice, steady, heavy, gas, ground, liquid, form, strong, block, cube\n",
      "        outwords = solid, house, gold, sun, cold, water, box, brown, solid, blue\n",
      "    [[clinical]]\n",
      "        memoranda = doctor, medical, hospital, trial, study, clean, cold, medicine, sterile, psychology, depression, white, clinic, research, precise, medication, trials, surgery, nurse, scientific\n",
      "        inwords = surgery, sterile, medication, nurse, trial, hospital, white, scientific, trials, depression\n",
      "        outwords = clinical, science, studies, practical, teacher, level, practice, precision, illness, professional\n",
      "    [[soft]]\n",
      "        memoranda = pillow, hard, fluffy, skin, blanket, warm, fuzzy, cushion, nice, cuddly, smooth, gentle, cat, comfortable, light, feather, fur, cloud, cotton, puppy\n",
      "        inwords = cloud, fur, skin, hard, fuzzy, blanket, cuddly, gentle, cotton, fluffy\n",
      "        outwords = soft, strong, bed, brown, box, soft, home, cold, water, animal\n",
      "    [[coffee]]\n",
      "        memoranda = tea, drink, morning, cup, caffeine, hot, black, sugar, milk, aroma, bitter, smell, beans, bean, cafe, mug, cake, color, creamer, cream\n",
      "        inwords = cup, bean, hot, morning, cake, aroma, caffeine, drink, milk, smell\n",
      "        outwords = coffee, water, warm, bed, fire, happy, love, food, sun, home\n",
      "    [[autumn]]\n",
      "        memoranda = leaves, fall, winter, season, spring, orange, cold, brown, summer, leaf, colors, trees, cool, pumpkin, wind, red, colour, change, rain, chilly\n",
      "        inwords = trees, wind, colour, spring, cold, fall, winter, summer, season, red\n",
      "        outwords = autumn, sun, weather, warm, sunny, sky, showers, shine, green, flower\n",
      "    [[tree]]\n",
      "        memoranda = green, branch, leaves, leaf, plant, oak, forest, shade, bark, bush, top, tall, trunk, life, house, wood, apple, branches, shrub, root\n",
      "        inwords = bark, plant, green, house, life, branch, leaf, oak, leaves, shrub\n",
      "        outwords = tree, tree, brown, nature, dog, bird, trees, sky, animal, free\n",
      "    [[draw]]\n",
      "        memoranda = pencil, picture, paint, paper, sketch, art, gun, color, pen, water, painting, create, write, line, crayon, design, tie, drawer, pull, win\n",
      "        inwords = pull, water, picture, write, sketch, win, color, paint, art, pen\n",
      "        outwords = draw, board, table, life, ink, tree, happy, party, card, flowers\n",
      "    [[angry]]\n",
      "        memoranda = mad, red, rage, upset, irate, pissed, birds, furious, sad, emotion, frustrated, cross, enraged, anger, fight, hateful, fury, temper, frown, shout\n",
      "        inwords = shout, sad, birds, frown, rage, irate, enraged, cross, upset, fight\n",
      "        outwords = angry, home, friend, fire, drugs, hate, sex, warm, bed, blanket\n",
      "    [[ball]]\n",
      "        memoranda = round, play, base, game, dance, bat, bounce, basket, baseball, basketball, fun, sphere, football, sport, throw, foot, catch, soccer, field, bearing\n",
      "        inwords = bearing, fun, base, foot, football, catch, bat, round, game, basket\n",
      "        outwords = ball, life, house, ball, party, time, sun, board, paper, earth\n",
      "    [[golden]]\n",
      "        memoranda = sun, silver, retriever, shiny, yellow, coin, hair, age, shower, ring, egg, gold, goose, rich, money, sunset, wheat, jewelry, precious, jewellery\n",
      "        inwords = egg, goose, shiny, sun, jewelry, sunset, precious, silver, age, jewellery\n",
      "        outwords = golden, tree, dog, brown, water, heavy, light, green, nature, life\n",
      "    [[diet]]\n",
      "        memoranda = food, weight, fat, coke, skinny, calories, soda, thin, healthy, health, nutrition, hunger, lose, exercise, eat, salad, loss, vegetables, fad, hungry\n",
      "        inwords = health, vegetables, skinny, hunger, nutrition, fat, exercise, eat, loss, soda\n",
      "        outwords = diet, chocolate, water, sugar, tea, white, strong, hard, eating, bone\n",
      "    [[academic]]\n",
      "        memoranda = school, university, professor, smart, scholar, study, college, intelligent, student, learning, books, teacher, scholarly, education, studies, learn, intellectual, grades, degree, academy\n",
      "        inwords = college, intelligent, studies, learn, learning, school, books, grades, study, university\n",
      "        outwords = academic, paper, science, doctor, book, life, ball, cap, objective, achievement\n",
      "    [[driving]]\n",
      "        memoranda = car, wheel, road, fast, golf, rain, travel, highway, speed, traffic, cars, crash, steering, mad, drunk, licence, test, accident, diving, fun\n",
      "        inwords = crash, mad, diving, steering, drunk, cars, traffic, fun, fast, accident\n",
      "        outwords = driving, home, power, train, city, blue, safety, life, safe, house\n",
      "    [[circle]]\n",
      "        memoranda = round, square, shape, geometry, sphere, sun, oval, jerk, ring, pi, life, perfect, ellipse, ball, balloon, draw, radius, circumference, line, friends\n",
      "        inwords = ball, shape, round, ellipse, line, balloon, jerk, draw, sphere, pi\n",
      "        outwords = circle, house, dance, water, box, metal, gold, time, earth, cold\n",
      "None\n"
     ]
    }
   ],
   "source": [
    "print(C.write(outfile=sys.stdout))"
   ]
  },
  {
   "cell_type": "code",
   "execution_count": 21,
   "metadata": {},
   "outputs": [],
   "source": []
  },
  {
   "cell_type": "code",
   "execution_count": null,
   "metadata": {},
   "outputs": [],
   "source": []
  }
 ],
 "metadata": {
  "kernelspec": {
   "display_name": "Python 3",
   "language": "python",
   "name": "python3"
  },
  "language_info": {
   "codemirror_mode": {
    "name": "ipython",
    "version": 3
   },
   "file_extension": ".py",
   "mimetype": "text/x-python",
   "name": "python",
   "nbconvert_exporter": "python",
   "pygments_lexer": "ipython3",
   "version": "3.6.3"
  },
  "latex_envs": {
   "LaTeX_envs_menu_present": true,
   "autocomplete": true,
   "bibliofile": "biblio.bib",
   "cite_by": "apalike",
   "current_citInitial": 1,
   "eqLabelWithNumbers": true,
   "eqNumInitial": 1,
   "hotkeys": {
    "equation": "Ctrl-E",
    "itemize": "Ctrl-I"
   },
   "labels_anchors": false,
   "latex_user_defs": true,
   "report_style_numbering": false,
   "user_envs_cfg": false
  }
 },
 "nbformat": 4,
 "nbformat_minor": 1
}
